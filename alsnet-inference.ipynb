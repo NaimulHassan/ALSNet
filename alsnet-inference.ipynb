{
 "cells": [
  {
   "cell_type": "code",
   "execution_count": 1,
   "metadata": {
    "_cell_guid": "b1076dfc-b9ad-4769-8c92-a6c4dae69d19",
    "_uuid": "8f2839f25d086af736a60e9eeb907d3b93b6e0e5",
    "execution": {
     "iopub.execute_input": "2022-01-09T11:39:39.448909Z",
     "iopub.status.busy": "2022-01-09T11:39:39.448250Z",
     "iopub.status.idle": "2022-01-09T11:39:43.211095Z",
     "shell.execute_reply": "2022-01-09T11:39:43.210441Z",
     "shell.execute_reply.started": "2022-01-09T11:25:45.196918Z"
    },
    "papermill": {
     "duration": 3.778558,
     "end_time": "2022-01-09T11:39:43.211223",
     "exception": false,
     "start_time": "2022-01-09T11:39:39.432665",
     "status": "completed"
    },
    "tags": []
   },
   "outputs": [],
   "source": [
    "import pandas as pd\n",
    "import scipy.io\n",
    "import numpy as np\n",
    "import h5py\n",
    "import pickle\n",
    "from sklearn.model_selection import train_test_split\n",
    "\n",
    "X_test = pd.read_pickle('../input/processed-emglab-dataset-for-als-detection/X_test.pkl')\n",
    "y_test = pd.read_pickle('../input/processed-emglab-dataset-for-als-detection/y_test.pkl')\n",
    "\n",
    "X_test= np.array(X_test)\n",
    "X_test= X_test.reshape(X_test.shape[0],X_test.shape[1],1)"
   ]
  },
  {
   "cell_type": "code",
   "execution_count": 2,
   "metadata": {
    "_cell_guid": "79c7e3d0-c299-4dcb-8224-4455121ee9b0",
    "_uuid": "d629ff2d2480ee46fbb7e2d37f6b5fab8052498a",
    "execution": {
     "iopub.execute_input": "2022-01-09T11:39:43.230010Z",
     "iopub.status.busy": "2022-01-09T11:39:43.229263Z",
     "iopub.status.idle": "2022-01-09T11:40:32.556549Z",
     "shell.execute_reply": "2022-01-09T11:40:32.557263Z",
     "shell.execute_reply.started": "2022-01-09T11:25:51.134064Z"
    },
    "papermill": {
     "duration": 49.338572,
     "end_time": "2022-01-09T11:40:32.557469",
     "exception": false,
     "start_time": "2022-01-09T11:39:43.218897",
     "status": "completed"
    },
    "tags": []
   },
   "outputs": [
    {
     "name": "stdout",
     "output_type": "stream",
     "text": [
      "21/21 [==============================] - 41s 2s/step\n",
      "Accuracy=0.977444, Sensitivity=0.967742, Specificity=0.985915\n",
      "Confusion matrix : \n",
      " [[350   5]\n",
      " [ 10 300]]\n"
     ]
    }
   ],
   "source": [
    "import matplotlib.pyplot as plt\n",
    "from keras import Sequential\n",
    "from keras.layers import Conv1D, MaxPooling1D, Flatten, Dropout, Dense, BatchNormalization, Input, Lambda, Activation, Conv2D, MaxPooling2D, Reshape, Bidirectional, TimeDistributed, GRU, GlobalMaxPooling1D\n",
    "from keras.layers import concatenate\n",
    "from keras.models import Model\n",
    "from keras.utils import plot_model\n",
    "from keras.callbacks import ReduceLROnPlateau, ModelCheckpoint, CSVLogger, EarlyStopping\n",
    "from keras.optimizers import Adam\n",
    "from tensorflow.keras.models import load_model\n",
    "from sklearn.metrics import confusion_matrix\n",
    "from sklearn.metrics import classification_report\n",
    "from sklearn.metrics import roc_curve\n",
    "from sklearn.metrics import precision_recall_curve\n",
    "from matplotlib import pyplot\n",
    "\n",
    "\n",
    "# load model\n",
    "\n",
    "model= load_model('../input/processed-emglab-dataset-for-als-detection/ALSNet3.hdf5')\n",
    "\n",
    "# predict probabilities for test set\n",
    "yhat_probs = model.predict(X_test, verbose=1)\n",
    "#yhat_probs= 1-yhat_probs\n",
    "\n",
    "# measure best fscore\n",
    "#y_test=1-y_test\n",
    "precision, recall, thresholds = precision_recall_curve(y_test, yhat_probs)\n",
    "fscore = (2 * precision * recall) / (precision + recall)\n",
    "# locate the index of the largest f score\n",
    "ix = np.argmax(fscore)\n",
    "#print('Best Threshold=%f, F-Score=%.3f, Precision=%.3f, Recall=%.3f' % (thresholds[ix], fscore[ix], precision[ix], recall[ix]))\n",
    "\n",
    "\n",
    "# predict classes for threshold\n",
    "yhat_classes = yhat_probs >= 0.5\n",
    "cm = confusion_matrix(y_test,yhat_classes)\n",
    "tn, fp, fn, tp = cm.ravel()\n",
    "\n",
    "model_precision= tp/(tp+fp)\n",
    "model_recall= tp/(tp+fn)\n",
    "model_f= 2*model_precision*model_recall/(model_precision+model_recall)\n",
    "model_accuracy= (tp+tn)/(tp+fp+tn+fn)\n",
    "model_sensitivity= model_recall\n",
    "model_specificity= tn/(tn+fp)\n",
    "\n",
    "# print('Threshold=%f, F-Score=%.3f, Precision=%.3f, Recall=%.3f' % (0.5, model_f, model_precision, model_recall))\n",
    "print('Accuracy=%f, Sensitivity=%f, Specificity=%f' % (model_accuracy, model_sensitivity, model_specificity))\n",
    "print('Confusion matrix : \\n',cm)"
   ]
  },
  {
   "cell_type": "code",
   "execution_count": 3,
   "metadata": {
    "execution": {
     "iopub.execute_input": "2022-01-09T11:40:32.591182Z",
     "iopub.status.busy": "2022-01-09T11:40:32.590474Z",
     "iopub.status.idle": "2022-01-09T11:40:32.815636Z",
     "shell.execute_reply": "2022-01-09T11:40:32.815050Z",
     "shell.execute_reply.started": "2022-01-09T11:31:18.530801Z"
    },
    "papermill": {
     "duration": 0.242778,
     "end_time": "2022-01-09T11:40:32.815777",
     "exception": false,
     "start_time": "2022-01-09T11:40:32.572999",
     "status": "completed"
    },
    "tags": []
   },
   "outputs": [
    {
     "name": "stdout",
     "output_type": "stream",
     "text": [
      "0.7790761562568598\n"
     ]
    },
    {
     "data": {
      "image/png": "[encoded data removed]",
      "text/plain": [
       "<Figure size 432x288 with 1 Axes>"
      ]
     },
     "metadata": {
      "needs_background": "light"
     },
     "output_type": "display_data"
    }
   ],
   "source": [
    "import matplotlib.pyplot as plt\n",
    "from sklearn import metrics\n",
    "y_classes= y_test==1\n",
    "print(metrics.log_loss(y_classes, yhat_classes, eps=1e-15, normalize=True, sample_weight=None, labels=None))\n",
    "fpr, tpr, thresholds = metrics.roc_curve(y_test, yhat_probs)\n",
    "roc_auc = metrics.auc(fpr, tpr)\n",
    "display = metrics.RocCurveDisplay(fpr=fpr, tpr=tpr, roc_auc=roc_auc)\n",
    "display.plot()\n",
    "plt.show()"
   ]
  },
  {
   "cell_type": "code",
   "execution_count": 4,
   "metadata": {
    "execution": {
     "iopub.execute_input": "2022-01-09T11:40:32.851213Z",
     "iopub.status.busy": "2022-01-09T11:40:32.850531Z",
     "iopub.status.idle": "2022-01-09T11:40:32.997029Z",
     "shell.execute_reply": "2022-01-09T11:40:32.997502Z",
     "shell.execute_reply.started": "2022-01-09T11:36:28.464138Z"
    },
    "papermill": {
     "duration": 0.165711,
     "end_time": "2022-01-09T11:40:32.997693",
     "exception": false,
     "start_time": "2022-01-09T11:40:32.831982",
     "status": "completed"
    },
    "tags": []
   },
   "outputs": [
    {
     "data": {
      "image/png": "[encoded data removed]",
      "text/plain": [
       "<Figure size 432x288 with 1 Axes>"
      ]
     },
     "metadata": {
      "needs_background": "light"
     },
     "output_type": "display_data"
    }
   ],
   "source": [
    "from sklearn.metrics import precision_recall_curve\n",
    "precision, recall, thresholds = precision_recall_curve(y_test, yhat_probs)\n",
    "plt.plot(recall, precision)\n",
    "plt.show()"
   ]
  },
  {
   "cell_type": "code",
   "execution_count": 5,
   "metadata": {
    "execution": {
     "iopub.execute_input": "2022-01-09T11:40:33.035043Z",
     "iopub.status.busy": "2022-01-09T11:40:33.034387Z",
     "iopub.status.idle": "2022-01-09T11:40:33.041858Z",
     "shell.execute_reply": "2022-01-09T11:40:33.042320Z"
    },
    "papermill": {
     "duration": 0.028036,
     "end_time": "2022-01-09T11:40:33.042476",
     "exception": false,
     "start_time": "2022-01-09T11:40:33.014440",
     "status": "completed"
    },
    "tags": []
   },
   "outputs": [],
   "source": [
    "import scipy.io as sio\n",
    "# Create a dictionary\n",
    "adict = {}\n",
    "adict['precision'] = precision\n",
    "sio.savemat('./precision.mat', adict)\n",
    "\n",
    "# Create a dictionary\n",
    "adict = {}\n",
    "adict['recall'] = recall\n",
    "sio.savemat('./recall.mat', adict)\n",
    "\n",
    "# Create a dictionary\n",
    "adict = {}\n",
    "adict['thresholds'] = precision\n",
    "sio.savemat('./thresholds.mat', adict)"
   ]
  },
  {
   "cell_type": "code",
   "execution_count": 6,
   "metadata": {
    "execution": {
     "iopub.execute_input": "2022-01-09T11:40:33.079743Z",
     "iopub.status.busy": "2022-01-09T11:40:33.079084Z",
     "iopub.status.idle": "2022-01-09T11:40:33.094180Z",
     "shell.execute_reply": "2022-01-09T11:40:33.094776Z",
     "shell.execute_reply.started": "2022-01-03T15:33:39.862131Z"
    },
    "papermill": {
     "duration": 0.035509,
     "end_time": "2022-01-09T11:40:33.094915",
     "exception": false,
     "start_time": "2022-01-09T11:40:33.059406",
     "status": "completed"
    },
    "tags": []
   },
   "outputs": [
    {
     "name": "stdout",
     "output_type": "stream",
     "text": [
      "350 5 10 300\n",
      "0    355\n",
      "1    310\n",
      "dtype: int64\n"
     ]
    }
   ],
   "source": [
    "print(tn, fp, fn, tp)\n",
    "print((y_test).value_counts())"
   ]
  },
  {
   "cell_type": "code",
   "execution_count": 7,
   "metadata": {
    "execution": {
     "iopub.execute_input": "2022-01-09T11:40:33.133044Z",
     "iopub.status.busy": "2022-01-09T11:40:33.132349Z",
     "iopub.status.idle": "2022-01-09T11:40:33.302597Z",
     "shell.execute_reply": "2022-01-09T11:40:33.303070Z"
    },
    "papermill": {
     "duration": 0.190967,
     "end_time": "2022-01-09T11:40:33.303218",
     "exception": false,
     "start_time": "2022-01-09T11:40:33.112251",
     "status": "completed"
    },
    "tags": []
   },
   "outputs": [
    {
     "data": {
      "text/plain": [
       "Text(0.5, 0, 'test set samples')"
      ]
     },
     "execution_count": 7,
     "metadata": {},
     "output_type": "execute_result"
    },
    {
     "data": {
      "image/png": "[encoded data removed]",
      "text/plain": [
       "<Figure size 432x288 with 1 Axes>"
      ]
     },
     "metadata": {
      "needs_background": "light"
     },
     "output_type": "display_data"
    }
   ],
   "source": [
    "samples= np.arange(1,666,1)\n",
    "plt.scatter(samples,yhat_probs)\n",
    "plt.title('model output')\n",
    "plt.ylabel('probability')\n",
    "plt.xlabel('test set samples')"
   ]
  },
  {
   "cell_type": "code",
   "execution_count": 8,
   "metadata": {
    "execution": {
     "iopub.execute_input": "2022-01-09T11:40:33.343994Z",
     "iopub.status.busy": "2022-01-09T11:40:33.343332Z",
     "iopub.status.idle": "2022-01-09T11:40:33.349460Z",
     "shell.execute_reply": "2022-01-09T11:40:33.349987Z"
    },
    "papermill": {
     "duration": 0.028299,
     "end_time": "2022-01-09T11:40:33.350128",
     "exception": false,
     "start_time": "2022-01-09T11:40:33.321829",
     "status": "completed"
    },
    "tags": []
   },
   "outputs": [],
   "source": [
    "import scipy.io as sio\n",
    "# Create a dictionary\n",
    "adict = {}\n",
    "adict['yhat_probs'] = yhat_probs\n",
    "sio.savemat('./yhat_probs.mat', adict)\n",
    "\n",
    "# Create a dictionary\n",
    "y_test= np.array(y_test)\n",
    "adict = {}\n",
    "adict['y_test'] = y_test\n",
    "sio.savemat('./y_test.mat', adict)"
   ]
  }
 ],
 "metadata": {
  "kernelspec": {
   "display_name": "Python 3",
   "language": "python",
   "name": "python3"
  },
  "language_info": {
   "codemirror_mode": {
    "name": "ipython",
    "version": 3
   },
   "file_extension": ".py",
   "mimetype": "text/x-python",
   "name": "python",
   "nbconvert_exporter": "python",
   "pygments_lexer": "ipython3",
   "version": "3.7.6"
  },
  "papermill": {
   "duration": 58.416345,
   "end_time": "2022-01-09T11:40:33.475904",
   "environment_variables": {},
   "exception": null,
   "input_path": "__notebook__.ipynb",
   "output_path": "__notebook__.ipynb",
   "parameters": {},
   "start_time": "2022-01-09T11:39:35.059559",
   "version": "2.1.0"
  }
 },
 "nbformat": 4,
 "nbformat_minor": 4
}
